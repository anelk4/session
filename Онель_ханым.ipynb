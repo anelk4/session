{
  "nbformat": 4,
  "nbformat_minor": 0,
  "metadata": {
    "colab": {
      "provenance": [],
      "mount_file_id": "1_eddn7YWlJYJJ5GAlcNwwG-wasOgbbd3",
      "authorship_tag": "ABX9TyO+a8G0ju7uvBqmsGn/NUuj",
      "include_colab_link": true
    },
    "kernelspec": {
      "name": "python3",
      "display_name": "Python 3"
    },
    "language_info": {
      "name": "python"
    }
  },
  "cells": [
    {
      "cell_type": "markdown",
      "metadata": {
        "id": "view-in-github",
        "colab_type": "text"
      },
      "source": [
        "<a href=\"https://colab.research.google.com/github/anelk4/session/blob/main/%D0%9E%D0%BD%D0%B5%D0%BB%D1%8C_%D1%85%D0%B0%D0%BD%D1%8B%D0%BC.ipynb\" target=\"_parent\"><img src=\"https://colab.research.google.com/assets/colab-badge.svg\" alt=\"Open In Colab\"/></a>"
      ]
    },
    {
      "cell_type": "code",
      "source": [
        "!pip install scikit-learn-extra\n"
      ],
      "metadata": {
        "colab": {
          "base_uri": "https://localhost:8080/"
        },
        "id": "u1ellc5OOdn5",
        "outputId": "8961fafe-71bf-40fe-c726-b1db3dc982bd"
      },
      "execution_count": 15,
      "outputs": [
        {
          "output_type": "stream",
          "name": "stdout",
          "text": [
            "Collecting scikit-learn-extra\n",
            "  Downloading scikit_learn_extra-0.3.0-cp310-cp310-manylinux_2_17_x86_64.manylinux2014_x86_64.whl (2.0 MB)\n",
            "\u001b[2K     \u001b[90m━━━━━━━━━━━━━━━━━━━━━━━━━━━━━━━━━━━━━━━━\u001b[0m \u001b[32m2.0/2.0 MB\u001b[0m \u001b[31m12.4 MB/s\u001b[0m eta \u001b[36m0:00:00\u001b[0m\n",
            "\u001b[?25hRequirement already satisfied: numpy>=1.13.3 in /usr/local/lib/python3.10/dist-packages (from scikit-learn-extra) (1.25.2)\n",
            "Requirement already satisfied: scipy>=0.19.1 in /usr/local/lib/python3.10/dist-packages (from scikit-learn-extra) (1.11.4)\n",
            "Requirement already satisfied: scikit-learn>=0.23.0 in /usr/local/lib/python3.10/dist-packages (from scikit-learn-extra) (1.2.2)\n",
            "Requirement already satisfied: joblib>=1.1.1 in /usr/local/lib/python3.10/dist-packages (from scikit-learn>=0.23.0->scikit-learn-extra) (1.4.0)\n",
            "Requirement already satisfied: threadpoolctl>=2.0.0 in /usr/local/lib/python3.10/dist-packages (from scikit-learn>=0.23.0->scikit-learn-extra) (3.4.0)\n",
            "Installing collected packages: scikit-learn-extra\n",
            "Successfully installed scikit-learn-extra-0.3.0\n"
          ]
        }
      ]
    },
    {
      "cell_type": "code",
      "execution_count": 16,
      "metadata": {
        "id": "0BPtdj_A_nlf"
      },
      "outputs": [],
      "source": [
        "import pandas as pd\n",
        "from sklearn.cluster import KMeans, AgglomerativeClustering\n",
        "from sklearn_extra.cluster import KMedoids\n",
        "from sklearn.preprocessing import StandardScaler, OneHotEncoder\n",
        "from sklearn.compose import ColumnTransformer\n",
        "from sklearn.metrics import silhouette_score\n"
      ]
    },
    {
      "cell_type": "code",
      "source": [
        "url = '/content/drive/MyDrive/Colab Notebooks/Retail Sales Dataset_exported.csv'\n",
        "data = pd.read_csv(url)\n",
        "print(data.head())"
      ],
      "metadata": {
        "colab": {
          "base_uri": "https://localhost:8080/"
        },
        "id": "PKPlmyGbC5iE",
        "outputId": "8d8b7d10-0166-45b5-9ccf-ef242973b843"
      },
      "execution_count": 17,
      "outputs": [
        {
          "output_type": "stream",
          "name": "stdout",
          "text": [
            "   Transaction ID                     Date Customer ID  Gender  Age  \\\n",
            "0               1  2023-11-24 00:00:00.000     CUST001    Male   34   \n",
            "1               2  2023-02-27 00:00:00.000     CUST002  Female   26   \n",
            "2               3  2023-01-13 00:00:00.000     CUST003    Male   50   \n",
            "3               4  2023-05-21 00:00:00.000     CUST004    Male   37   \n",
            "4               5  2023-05-06 00:00:00.000     CUST005    Male   30   \n",
            "\n",
            "  Product Category  Quantity  Price per Unit  Total Amount  \n",
            "0           Beauty         3              50           150  \n",
            "1         Clothing         2             500          1000  \n",
            "2      Electronics         1              30            30  \n",
            "3         Clothing         1             500           500  \n",
            "4           Beauty         2              50           100  \n"
          ]
        }
      ]
    },
    {
      "cell_type": "code",
      "source": [
        "categorical_features = ['Product Category']\n",
        "numeric_features = ['Quantity', 'Price per Unit']\n",
        "\n",
        "preprocessor = ColumnTransformer(\n",
        "    transformers=[\n",
        "        ('num', StandardScaler(), numeric_features),\n",
        "        ('cat', OneHotEncoder(), categorical_features)\n",
        "    ])\n",
        "\n",
        "X = preprocessor.fit_transform(data)\n",
        "\n"
      ],
      "metadata": {
        "id": "XTLfLCYAIU6_"
      },
      "execution_count": 18,
      "outputs": []
    },
    {
      "cell_type": "code",
      "source": [
        "#ка минс\n",
        "kmeans = KMeans(n_clusters=3, random_state=42)\n",
        "kmeans_labels = kmeans.fit_predict(X)\n",
        "print(f'Оценка силуэта для K Миннс: {silhouette_score(X, kmeans_labels)}')\n"
      ],
      "metadata": {
        "colab": {
          "base_uri": "https://localhost:8080/"
        },
        "id": "-UDkDd5LMLoH",
        "outputId": "d2bf2d6c-d19c-42d7-a33b-fe5e5b3cb449"
      },
      "execution_count": 20,
      "outputs": [
        {
          "output_type": "stream",
          "name": "stderr",
          "text": [
            "/usr/local/lib/python3.10/dist-packages/sklearn/cluster/_kmeans.py:870: FutureWarning: The default value of `n_init` will change from 10 to 'auto' in 1.4. Set the value of `n_init` explicitly to suppress the warning\n",
            "  warnings.warn(\n"
          ]
        },
        {
          "output_type": "stream",
          "name": "stdout",
          "text": [
            "Оценка силуэта для K Миннс: 0.34260584047154674\n"
          ]
        }
      ]
    },
    {
      "cell_type": "code",
      "source": [
        "agglomerative = AgglomerativeClustering(n_clusters=3, metric='chebyshev', linkage='complete')\n",
        "agglomerative_labels = agglomerative.fit_predict(X)\n",
        "print(f'Оценка силуэта для агломеративной кластеризации (Чебышев): {silhouette_score(X, agglomerative_labels)}')\n"
      ],
      "metadata": {
        "colab": {
          "base_uri": "https://localhost:8080/"
        },
        "id": "jFL3tEAENfsm",
        "outputId": "2e7a2098-11cd-4630-d18a-b6614d3871b1"
      },
      "execution_count": 27,
      "outputs": [
        {
          "output_type": "stream",
          "name": "stdout",
          "text": [
            "Оценка силуэта для агломеративной кластеризации (Чебышев): 0.2868615739154176\n"
          ]
        }
      ]
    },
    {
      "cell_type": "code",
      "source": [
        "\n",
        "output_file_path = '/content/drive/MyDrive/Colab Notebooks/Clustered_Retail_Sales_Dataset.csv'\n",
        "\n",
        "\n",
        "data['Cluster_KMeans'] = kmeans_labels\n",
        "data['Cluster_Agglomerative'] = agglomerative_labels\n",
        "\n",
        "\n",
        "data.to_csv(output_file_path, index=False)\n",
        "\n",
        "\n",
        "print(f'Результат{output_file_path}')\n"
      ],
      "metadata": {
        "colab": {
          "base_uri": "https://localhost:8080/"
        },
        "id": "W6cALr57S6VO",
        "outputId": "8f8dc65a-b23b-412c-b5cf-d954163bc4d8"
      },
      "execution_count": 30,
      "outputs": [
        {
          "output_type": "stream",
          "name": "stdout",
          "text": [
            "Результат/content/drive/MyDrive/Colab Notebooks/Clustered_Retail_Sales_Dataset.csv\n"
          ]
        }
      ]
    }
  ]
}